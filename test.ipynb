{
 "cells": [
  {
   "cell_type": "code",
   "execution_count": 107,
   "metadata": {},
   "outputs": [],
   "source": [
    "from keras.datasets.mnist import load_data\n",
    "\n",
    "(x_train, y_train), (x_test, y_test) = load_data(path='mnist.npz')"
   ]
  },
  {
   "cell_type": "code",
   "execution_count": 108,
   "metadata": {},
   "outputs": [
    {
     "data": {
      "text/plain": [
       "((60000, 1, 784), (60000,), (10000, 1, 784), (10000,))"
      ]
     },
     "execution_count": 108,
     "metadata": {},
     "output_type": "execute_result"
    }
   ],
   "source": [
    "import numpy as np\n",
    "\n",
    "def one_hot_encoding(x):\n",
    "    tmp = np.zeros((len(x), 1, max(x)+1))\n",
    "    for idx, data in enumerate(x):\n",
    "        tmp[idx,0,data] = 1\n",
    "    return tmp\n",
    "    \n",
    "x_train = x_train.reshape((len(x_train), 1, -1))\n",
    "#y_train = one_hot_encoding(y_train)\n",
    "x_test = x_test.reshape((len(x_test), 1, -1))\n",
    "#y_test = one_hot_encoding(y_test)\n",
    "x_train.shape, y_train.shape, x_test.shape, y_test.shape"
   ]
  },
  {
   "cell_type": "code",
   "execution_count": 140,
   "metadata": {},
   "outputs": [
    {
     "data": {
      "text/plain": [
       "(array([[0.36364782, 0.92966706, 0.61706288, ..., 0.08309309, 0.64945343,\n",
       "         0.1761269 ],\n",
       "        [0.63641219, 0.87413775, 0.88345895, ..., 0.53235591, 0.89631847,\n",
       "         0.74493472],\n",
       "        [0.9498108 , 0.74180228, 0.02759672, ..., 0.06957412, 0.61821783,\n",
       "         0.41864138],\n",
       "        ...,\n",
       "        [0.49792787, 0.23080267, 0.16803861, ..., 0.46850579, 0.75136925,\n",
       "         0.29501988],\n",
       "        [0.7780122 , 0.94050521, 0.61599685, ..., 0.91672839, 0.60100519,\n",
       "         0.35529105],\n",
       "        [0.28665031, 0.76347081, 0.9569655 , ..., 0.70067185, 0.32453877,\n",
       "         0.37378893]]),\n",
       " array([[0.23408043, 0.74191411, 0.6111646 , 0.41323479, 0.57767849,\n",
       "         0.33469095, 0.92517143, 0.19356942, 0.14858215, 0.22221436]]))"
      ]
     },
     "execution_count": 140,
     "metadata": {},
     "output_type": "execute_result"
    }
   ],
   "source": [
    "W = np.load('./final/W.npy')\n",
    "b = np.load('./final/b.npy')\n",
    "W, b"
   ]
  },
  {
   "cell_type": "code",
   "execution_count": 141,
   "metadata": {},
   "outputs": [
    {
     "data": {
      "image/png": "[encoded data removed]",
      "text/plain": [
       "<Figure size 640x480 with 1 Axes>"
      ]
     },
     "metadata": {},
     "output_type": "display_data"
    },
    {
     "name": "stdout",
     "output_type": "stream",
     "text": [
      "5\n",
      "5 [[0.00000000e+000 3.88447276e-258 0.00000000e+000 0.00000000e+000\n",
      "  0.00000000e+000 1.00000000e+000 0.00000000e+000 0.00000000e+000\n",
      "  1.08276048e-254 0.00000000e+000]]\n"
     ]
    }
   ],
   "source": [
    "import cv2\n",
    "from matplotlib import pyplot as plt\n",
    "\n",
    "idx = 8823\n",
    "\n",
    "def softmax(x):\n",
    "    c = np.max(x)\n",
    "    np_exp = np.exp(x - c)\n",
    "    return np_exp / np.sum(np_exp)\n",
    "\n",
    "plt.imshow(x_test[idx].reshape(28,28), cmap='gray')\n",
    "plt.xticks([]) # x축 눈금\n",
    "plt.yticks([]) # y축 눈금\n",
    "plt.show()\n",
    "print(y_test[idx])\n",
    "\n",
    "y_pred = x_test[idx] @ W + b\n",
    "print(np.argmax(softmax(y_pred)), softmax(y_pred))"
   ]
  },
  {
   "cell_type": "code",
   "execution_count": 142,
   "metadata": {},
   "outputs": [
    {
     "data": {
      "text/plain": [
       "0.7435166666666667"
      ]
     },
     "execution_count": 142,
     "metadata": {},
     "output_type": "execute_result"
    }
   ],
   "source": [
    "sum([np.argmax(softmax(x_train[idx] @ W + b)) == y_train[idx] for idx in range(len(x_train))])/len(x_train)"
   ]
  },
  {
   "cell_type": "code",
   "execution_count": 143,
   "metadata": {},
   "outputs": [
    {
     "data": {
      "text/plain": [
       "0.749"
      ]
     },
     "execution_count": 143,
     "metadata": {},
     "output_type": "execute_result"
    }
   ],
   "source": [
    "sum([np.argmax(softmax(x_test[idx] @ W + b)) == y_test[idx] for idx in range(len(x_test))])/len(x_test)"
   ]
  }
 ],
 "metadata": {
  "kernelspec": {
   "display_name": "Python 3.8.9 64-bit",
   "language": "python",
   "name": "python3"
  },
  "language_info": {
   "codemirror_mode": {
    "name": "ipython",
    "version": 3
   },
   "file_extension": ".py",
   "mimetype": "text/x-python",
   "name": "python",
   "nbconvert_exporter": "python",
   "pygments_lexer": "ipython3",
   "version": "3.8.9"
  },
  "orig_nbformat": 4,
  "vscode": {
   "interpreter": {
    "hash": "e0144baad0ecee903f108a3e46e51ceadd7da3fc904cfa79747d813b61464b4e"
   }
  }
 },
 "nbformat": 4,
 "nbformat_minor": 2
}
